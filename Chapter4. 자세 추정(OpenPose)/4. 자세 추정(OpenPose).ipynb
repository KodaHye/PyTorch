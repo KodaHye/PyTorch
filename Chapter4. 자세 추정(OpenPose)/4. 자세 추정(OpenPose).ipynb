{
 "cells": [
  {
   "cell_type": "markdown",
   "id": "a94d482a",
   "metadata": {},
   "source": [
    "## 4.1 자세 추정 및 오픈포즈 개요\n",
    "> 자세 추정의 입출력<br>\n",
    "> MSCOCO Keypoints 데이터<br>\n",
    "> PAFs 개념<br>\n",
    "> 오픈포즈를 활용한 자세 추정의 3단계 흐름<br>"
   ]
  },
  {
   "cell_type": "markdown",
   "id": "724bb30f",
   "metadata": {},
   "source": [
    "#### 4.1.1 자세 추정 개요\n",
    "* 자세 추정\n",
    "    * 이미지에 포함된 여러 인물을 탐지하여 **인체 각 부위의 위치를 식별**\n",
    "    * **인체 각 부위를 연결하는 선(링크)**을 구함"
   ]
  },
  {
   "cell_type": "markdown",
   "id": "f4d17054",
   "metadata": {},
   "source": [
    "#### 4.1.2 MSCOCO 데이터셋 및 자세 추정의 어노테이션 데이터\n",
    "* MSCOCO\n",
    "    * 이미지 데이터, 어노테이션 데이터가 있음\n",
    "        * 어노테이션 데이터: JSON 형식\n",
    "            * 이미지의 주요 인물 정보(`joint_self`)와 그 외 인물 정보(`joint_others`)로 나누어 저장\n",
    "        * 동일한 이미지의 어노테이션에서 주요인물의 정보가 다를 수 있음\n",
    "    * **캡션 어노테이션 데이터**가 있음\n",
    "        * 해당 이미지가 무엇을 나타내는지 설명\n",
    "        * 이미지에 캡션 데이터를 생성하는 딥러닝 데이터셋으로 활용\n",
    "    * MSCOCOC 중 **인물이 있고, 인체의 부위와 인물의 어노테이션이 부여된 데이터 사용**\n",
    "    * MSCOCO 자세 추정용 데이터: COCO Keypoint Detection Task(COCO 키포인트 인식 작업에 사용)"
   ]
  },
  {
   "cell_type": "markdown",
   "id": "ce42a31b",
   "metadata": {},
   "source": [
    "#### 4.1.3 오픈포즈를 활용한 자세 추정 흐름\n",
    "* 본질적인 내용은 시맨틱 분할과 거의 비슷!\n",
    "    * 이미지에서 픽셀 수준으로 클래스(신체 부위) 판정\n",
    "    * 시맨틱 분할\n",
    "        * 픽셀별 클래스 분류 문제\n",
    "    * 오픈포즈\n",
    "        * 픽셀별 회귀문제"
   ]
  },
  {
   "cell_type": "code",
   "execution_count": null,
   "id": "45c9f457",
   "metadata": {},
   "outputs": [],
   "source": []
  }
 ],
 "metadata": {
  "kernelspec": {
   "display_name": "Python 3",
   "language": "python",
   "name": "python3"
  },
  "language_info": {
   "codemirror_mode": {
    "name": "ipython",
    "version": 3
   },
   "file_extension": ".py",
   "mimetype": "text/x-python",
   "name": "python",
   "nbconvert_exporter": "python",
   "pygments_lexer": "ipython3",
   "version": "3.6.13"
  }
 },
 "nbformat": 4,
 "nbformat_minor": 5
}
