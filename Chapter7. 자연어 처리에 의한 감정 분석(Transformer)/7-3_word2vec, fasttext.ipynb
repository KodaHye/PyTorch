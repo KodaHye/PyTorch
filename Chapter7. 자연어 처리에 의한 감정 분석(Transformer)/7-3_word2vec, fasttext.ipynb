{
 "cells": [
  {
   "cell_type": "markdown",
   "id": "cb4df172",
   "metadata": {},
   "source": [
    "### 7.3.1 word2vec을 활용한 단어의 벡터 표현 방법\n",
    "* 단어에 ID를 매기는 방법의 문제점\n",
    "    * one-hot 표현이 너무 길어짐\n",
    "    * 단어 간 관계성을 고려할 수 없음\n",
    "* ID 표현의 문제점을 해결하기 위해 **벡터 표현** 사용\n",
    "* 벡터표현\n",
    "    * 단어를 수백 차원의 특징량 벡터로 표현\n",
    "    * 단어 간 관계 고려 가능\n",
    "        * 특징량 차원의 인덱스,,,"
   ]
  },
  {
   "cell_type": "markdown",
   "id": "a64929e8",
   "metadata": {},
   "source": [
    "###  7.3.2 word2vec을 활용한 단어의 벡터 표현 방법: CBOW\n",
    "* 단어 벡터 표현을 구하는 방법\n",
    "    * 해당 단어 주위에서 자주 이용되는 단어를 사용하여 결정\n",
    "    * 주변 단어를 사용하여 특징량 결정\n",
    "* CBOW와 스킵그램에서 대량의 문장 수집\n",
    "\n",
    "\n",
    "* 입력층과 출력층 = vocabulary\n",
    "    * 각 뉴런은 각 단어에 대응하여 입력이 one-hot 표현으로 주어짐\n",
    "* 윈도우 폭을 기준으로 하여 주변 단어는 1, 주변 단어가 아니라면 0 출력\n",
    "* 전결합 층 1 을 통과하여 중간 뉴런층으로 표시\n",
    "* 전결합 층 2 을 통과하여 정답 출력"
   ]
  },
  {
   "cell_type": "markdown",
   "id": "66647a36",
   "metadata": {},
   "source": [
    "### 7.3.3 word2vec을 활용한 단어의 벡터 표현 방법: 스킵그램\n",
    "* 스킵그램: word2vec을 활용한 표현 방법"
   ]
  },
  {
   "cell_type": "markdown",
   "id": "6cdd5282",
   "metadata": {},
   "source": [
    "### 7.3.4 fasttext를 활용한 단어의 벡터 표현 방법\n",
    "* fasttext\n",
    "    * word2vec이 미지어에 취약했기 때문에 생성됨\n",
    "        * 미지어: vocabulary에 포함되지 않은 언어\n",
    "        * word2vec: 학습시 vocabulary에 포함되지 않은 단어의 벡터 표현을 얻을 수 없음\n",
    "        * 학습하지 않은 미지어를 서브워드로 나누어 다른 단어로 학습하면 서브워드의 합으로 미지어의 벡터표현을 얻을 수 있음,,,,,,\n",
    "    * word2vec과 차이점: 서브워드\n",
    "        * fasttext는 단어를 서브워드라는 '분할된 단어'의 합으로 표현하고 분할된 단어별로 벡터 표현을 학습함!"
   ]
  },
  {
   "cell_type": "code",
   "execution_count": null,
   "id": "4891027f",
   "metadata": {},
   "outputs": [],
   "source": []
  }
 ],
 "metadata": {
  "kernelspec": {
   "display_name": "test_pytorch",
   "language": "python",
   "name": "test"
  },
  "language_info": {
   "codemirror_mode": {
    "name": "ipython",
    "version": 3
   },
   "file_extension": ".py",
   "mimetype": "text/x-python",
   "name": "python",
   "nbconvert_exporter": "python",
   "pygments_lexer": "ipython3",
   "version": "3.6.13"
  }
 },
 "nbformat": 4,
 "nbformat_minor": 5
}
