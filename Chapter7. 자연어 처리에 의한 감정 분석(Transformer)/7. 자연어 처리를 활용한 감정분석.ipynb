{
 "cells": [
  {
   "cell_type": "markdown",
   "id": "bee16617",
   "metadata": {},
   "source": [
    "## 7.1 형태소 분석 구현(Janome, MeCab+NEologd)\n",
    "* 자연어 처리에 의한 감정 분석\n",
    "    * `Transformer` 모델을 활용하여 분석"
   ]
  },
  {
   "cell_type": "code",
   "execution_count": null,
   "id": "2c67a35c",
   "metadata": {},
   "outputs": [],
   "source": []
  }
 ],
 "metadata": {
  "kernelspec": {
   "display_name": "Python 3",
   "language": "python",
   "name": "python3"
  },
  "language_info": {
   "codemirror_mode": {
    "name": "ipython",
    "version": 3
   },
   "file_extension": ".py",
   "mimetype": "text/x-python",
   "name": "python",
   "nbconvert_exporter": "python",
   "pygments_lexer": "ipython3",
   "version": "3.6.13"
  }
 },
 "nbformat": 4,
 "nbformat_minor": 5
}
