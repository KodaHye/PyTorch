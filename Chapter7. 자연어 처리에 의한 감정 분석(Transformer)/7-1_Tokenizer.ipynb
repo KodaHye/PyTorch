{
 "cells": [
  {
   "cell_type": "markdown",
   "metadata": {},
   "source": [
    "## 7.1 단어 분할(Janome, MeCab+NEologd)\n",
    "※ 여기 코드는 Ubuntu 환경임! Window에서랑은 동작이 다를 수 있음"
   ]
  },
  {
   "cell_type": "markdown",
   "metadata": {},
   "source": [
    "### 7.1.2 머신러닝의 자연어 처리 흐름\n",
    "* 코퍼스: 수집한 문서 데이터\n",
    "\n",
    "\n",
    "* 머신러닝 자연어 처리 흐름\n",
    "    * 데이터 청소\n",
    "        * HTML 태그나 메일 헤더 등 글이 아닌 노이즈 제거\n",
    "    * 정규화\n",
    "        * 반각 / 전각 통일, 대소문자 통일, 표기 오류 수종, 의미 없는 숫자 대체 등\n",
    "    * 단어 분할(형태소 분석)\n",
    "        * 문장을 단어별로 구분\n",
    "    * 기본형 변환(표제어화)\n",
    "        * '달리고' → '달리다'처럼 단어를 기본형(원형)으로 변환. 기본형으로 변환하지 않는 경우도 있음\n",
    "        * 경우에 따라서 스톱워드 제거\n",
    "            * 스톱워드: 출현 빈도가 많은 단어나 조사, 조동사 등 문장에서 의미가 없는 품사 및 단어\n",
    "    * 스톱 워드 제거\n",
    "        * 출현 수가 많은 단어나 조사 등 특별한 의미가 없는 단어 제거. 제거하지 않는 경우도 있음\n",
    "    * 단어의 수치화\n",
    "        * 단어를 기계학습응로 다룰 수 있도록 수치 변경. 단순히 ID를 매기거나 벡터로 표현할 수 있음"
   ]
  },
  {
   "cell_type": "markdown",
   "metadata": {},
   "source": [
    "### 7.1.3 Janome를 활용한 단어 분할\n",
    "* 실행결과: **문장이 단어로 분리**되고 **품사 정보 등이 표시**됨"
   ]
  },
  {
   "cell_type": "code",
   "execution_count": 1,
   "metadata": {},
   "outputs": [
    {
     "name": "stdout",
     "output_type": "stream",
     "text": [
      "機械\t名詞,一般,*,*,*,*,機械,キカイ,キカイ\n",
      "学習\t名詞,サ変接続,*,*,*,*,学習,ガクシュウ,ガクシュー\n",
      "が\t助詞,格助詞,一般,*,*,*,が,ガ,ガ\n",
      "好き\t名詞,形容動詞語幹,*,*,*,*,好き,スキ,スキ\n",
      "です\t助動詞,*,*,*,特殊・デス,基本形,です,デス,デス\n",
      "。\t記号,句点,*,*,*,*,。,。,。\n"
     ]
    }
   ],
   "source": [
    "from janome.tokenizer import Tokenizer\n",
    "\n",
    "j_t = Tokenizer()\n",
    "\n",
    "text = '機械学習が好きです。'\n",
    "\n",
    "for token in j_t.tokenize(text):\n",
    "    print(token)"
   ]
  },
  {
   "cell_type": "markdown",
   "metadata": {},
   "source": [
    "* `j_t.tokenize.wakati = True`: Janome에서 단어 분할만 필요하고 단어의 품사 정보 등이 필요 없을 때 설정!"
   ]
  },
  {
   "cell_type": "code",
   "execution_count": 2,
   "metadata": {},
   "outputs": [
    {
     "name": "stdout",
     "output_type": "stream",
     "text": [
      "['機械', '学習', 'が', '好き', 'です', '。']\n"
     ]
    }
   ],
   "source": [
    "# 단어 분할 함수를 정의\n",
    "def tokenizer_janome(text):\n",
    "    return [tok for tok in j_t.tokenize(text, wakati=True)]\n",
    "\n",
    "\n",
    "text = '機械学習が好きです。'\n",
    "print(tokenizer_janome(text))\n"
   ]
  },
  {
   "cell_type": "markdown",
   "metadata": {},
   "source": [
    "### 7.1.4 MeCab + NEologd에 의한 단어 분할\n",
    "* `MeCab`\n",
    "    * 단어 분할 라이브러리\n",
    "    * 신조어 사전 `NEologd`와 함께 사용되는 경우가 많음\n",
    "    * 신조어에 대응할 수 있음"
   ]
  },
  {
   "cell_type": "markdown",
   "metadata": {},
   "source": [
    "* 형태소 분석 실행"
   ]
  },
  {
   "cell_type": "code",
   "execution_count": 3,
   "metadata": {},
   "outputs": [
    {
     "name": "stdout",
     "output_type": "stream",
     "text": [
      "機械\tキカイ\t機械\t名詞-一般\t\t\n",
      "学習\tガクシュウ\t学習\t名詞-サ変接続\t\t\n",
      "が\tガ\tが\t助詞-格助詞-一般\t\t\n",
      "好き\tスキ\t好き\t名詞-形容動詞語幹\t\t\n",
      "です\tデス\tです\t助動詞\t特殊・デス\t基本形\n",
      "。\t。\t。\t記号-句点\t\t\n",
      "EOS\n",
      "\n"
     ]
    }
   ],
   "source": [
    "import MeCab\n",
    "\n",
    "m_t = MeCab.Tagger('-Ochasen')\n",
    "\n",
    "text = '機械学習が好きです。'\n",
    "\n",
    "print(m_t.parse(text))\n"
   ]
  },
  {
   "cell_type": "code",
   "execution_count": 4,
   "metadata": {},
   "outputs": [
    {
     "name": "stdout",
     "output_type": "stream",
     "text": [
      "機械学習\tキカイガクシュウ\t機械学習\t名詞-固有名詞-一般\t\t\n",
      "が\tガ\tが\t助詞-格助詞-一般\t\t\n",
      "好き\tスキ\t好き\t名詞-形容動詞語幹\t\t\n",
      "です\tデス\tです\t助動詞\t特殊・デス\t基本形\n",
      "。\t。\t。\t記号-句点\t\t\n",
      "EOS\n",
      "\n"
     ]
    }
   ],
   "source": [
    "import MeCab\n",
    "\n",
    "m_t = MeCab.Tagger('-Ochasen -d /usr/lib/mecab/dic/mecab-ipadic-neologd')\n",
    "\n",
    "text = '機械学習が好きです。'\n",
    "\n",
    "print(m_t.parse(text))\n"
   ]
  },
  {
   "cell_type": "markdown",
   "metadata": {},
   "source": [
    "* `tokenizer_mecab`\n",
    "    * `Mecab`과 `NEologd`로 문장을 단어 리스트로 분할"
   ]
  },
  {
   "cell_type": "code",
   "execution_count": 5,
   "metadata": {},
   "outputs": [
    {
     "name": "stdout",
     "output_type": "stream",
     "text": [
      "['機械学習', 'が', '好き', 'です', '。']\n"
     ]
    }
   ],
   "source": [
    "# 단어 분할 함수를 정의\n",
    "m_t = MeCab.Tagger('-Owakati -d /usr/lib/mecab/dic/mecab-ipadic-neologd')\n",
    "\n",
    "def tokenizer_mecab(text):\n",
    "    text = m_t.parse(text)  # これでスペースで単語が区切られる\n",
    "    ret = text.strip().split()  # スペース部分で区切ったリストに変換\n",
    "    return ret\n",
    "\n",
    "\n",
    "text = '機械学習が好きです。'\n",
    "print(tokenizer_mecab(text))\n"
   ]
  }
 ],
 "metadata": {
  "kernelspec": {
   "display_name": "Python 3",
   "language": "python",
   "name": "python3"
  },
  "language_info": {
   "codemirror_mode": {
    "name": "ipython",
    "version": 3
   },
   "file_extension": ".py",
   "mimetype": "text/x-python",
   "name": "python",
   "nbconvert_exporter": "python",
   "pygments_lexer": "ipython3",
   "version": "3.6.13"
  }
 },
 "nbformat": 4,
 "nbformat_minor": 2
}
